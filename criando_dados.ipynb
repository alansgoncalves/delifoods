{
 "cells": [
  {
   "cell_type": "markdown",
   "metadata": {},
   "source": [
    "# Criando os dados para a tabela de clientes"
   ]
  },
  {
   "cell_type": "code",
   "execution_count": 12,
   "metadata": {},
   "outputs": [],
   "source": [
    "nomes_de_pessoas = [\n",
    "    'Lucas Oliveira',\n",
    "    'Isabela Santos',\n",
    "    'Rafael Lima',\n",
    "    'Mariana Costa',\n",
    "    'Gustavo Pereira',\n",
    "    'Ana Souza',\n",
    "    'Pedro Almeida',\n",
    "    'Juliana Silva',\n",
    "    'Gabriel Rocha',\n",
    "    'Carolina Mendes',\n",
    "    'Thiago Oliveira',\n",
    "    'Amanda Santos',\n",
    "    'Bruno Costa',\n",
    "    'Larissa Lima',\n",
    "    'Eduardo Pereira',\n",
    "    'Beatriz Oliveira',\n",
    "    'Daniel Silva',\n",
    "    'Giovanna Almeida',\n",
    "    'Matheus Rocha',\n",
    "    'Camila Lima',\n",
    "    'Lucas Rodrigues',\n",
    "    'Gabriela Souza',\n",
    "    'Henrique Almeida',\n",
    "    'Isabella Pereira',\n",
    "    'Vinícius Costa',\n",
    "    'Fernanda Oliveira',\n",
    "    'André Santos',\n",
    "    'Raquel Lima',\n",
    "    'Rodrigo Rocha',\n",
    "    'Júlia Almeida'\n",
    "]"
   ]
  },
  {
   "cell_type": "code",
   "execution_count": 13,
   "metadata": {},
   "outputs": [],
   "source": [
    "endereco_cl = [\n",
    "    'Rua dos Barcos, 192',\n",
    "    'Viela dos Corais, 175',\n",
    "    'Beco das Marés, 196',\n",
    "    'Travessa dos Piratas, 657',\n",
    "    'Alameda das Âncoras, 22',\n",
    "    'Praça dos Náufragos, 818',\n",
    "    'Avenida dos Recifes, 779',\n",
    "    'Rua das Conchas, 538',\n",
    "    'Viela dos Tubarões, 737',\n",
    "    'Beco dos Golfinhos, 226',\n",
    "    'Travessa das Tartarugas, 601',\n",
    "    'Alameda das Baleias, 886',\n",
    "    'Praça dos Moluscos, 569',\n",
    "    'Avenida dos Oceanos, 44',\n",
    "    'Rua dos Navios, 916',\n",
    "    'Viela dos Peixes, 503',\n",
    "    'Beco das Ostras, 952',\n",
    "    'Travessa das Águas, 197',\n",
    "    'Alameda dos Leme, 109',\n",
    "    'Praça das Marés, 91',\n",
    "    'Avenida das Dunas, 687',\n",
    "    'Rua dos Surfistas, 969',\n",
    "    'Viela das Conquistas, 237',\n",
    "    'Beco dos Coqueiros, 485',\n",
    "    'Travessa dos Cocos, 655',\n",
    "    'Alameda dos Abacaxis, 385',\n",
    "    'Praça das Mangas, 256',\n",
    "    'Avenida dos Cajueiros, 596',\n",
    "    'Rua das Pitangas, 760',\n",
    "    'Viela dos Guaranis, 215'\n",
    "]"
   ]
  },
  {
   "cell_type": "markdown",
   "metadata": {},
   "source": [
    "# Gerando os emails falsos"
   ]
  },
  {
   "cell_type": "code",
   "execution_count": null,
   "metadata": {},
   "outputs": [],
   "source": [
    "# A função utiliza a biblioteca random para gerar strings aleatórias\n",
    "\n",
    "import random\n",
    "import string\n",
    "\n",
    "def gerar_email():\n",
    "    # nome: string aleatória de 5 a 10 caracteres\n",
    "    nome = ''.join(random.choice(string.ascii_lowercase) for _ in range(random.randint(5, 10)))\n",
    "    # dominio: string aleatória de 5 a 10 caracteres\n",
    "    dominio = ''.join(random.choice(string.ascii_lowercase) for _ in range(random.randint(5, 10)))\n",
    "    # extensao: escolhe uma extensão aleatória\n",
    "    extensao = random.choice(['com', 'net', 'org', 'gov'])\n",
    "\n",
    "    return f\"{nome}@{dominio}.{extensao}\"\n",
    "\n",
    "# Utiliza uma list comprehension para criar uma lista chamada emails_aleatorios na qual cada elemento é gerado chamando a função gerar_email\n",
    "emails_aleatorios = [gerar_email() for _ in range(30)]\n",
    "\n",
    "# Exemplo de uso:\n",
    "print(emails_aleatorios)"
   ]
  },
  {
   "cell_type": "markdown",
   "metadata": {},
   "source": [
    "# Gerando os números de telefones falsos"
   ]
  },
  {
   "cell_type": "code",
   "execution_count": 10,
   "metadata": {},
   "outputs": [],
   "source": [
    "numeros_clientes = [\n",
    "    12345678, 98765432, 87654321, 23456789, 56789012,\n",
    "    34567890, 89012345, 45678901, 54321098, 67890123,\n",
    "    21098765, 78901234, 13246578, 87654301, 65432109,\n",
    "    10987654, 54321076, 89076541, 45678923, 67890134,\n",
    "    34120987, 99876543, 76543210, 98701234, 56781234,\n",
    "    45670981, 87654389, 43210987, 89015672, 56789023\n",
    "]"
   ]
  },
  {
   "cell_type": "markdown",
   "metadata": {},
   "source": [
    "# Gerando lista de tuplas com os dados gerados"
   ]
  },
  {
   "cell_type": "code",
   "execution_count": null,
   "metadata": {},
   "outputs": [],
   "source": [
    "# for in para gerar tuplas formatadas, cada uma representando informações de um cliente\n",
    "for i in range(len(emails_aleatorios)):\n",
    "    print(f\"('{nomes_de_pessoas[i]}', '{endereco_cl[i]}', 'Diamantina', '{emails_aleatorios[i]}', {numeros_clientes[i]}),\")"
   ]
  }
 ],
 "metadata": {
  "kernelspec": {
   "display_name": "base",
   "language": "python",
   "name": "python3"
  },
  "language_info": {
   "codemirror_mode": {
    "name": "ipython",
    "version": 3
   },
   "file_extension": ".py",
   "mimetype": "text/x-python",
   "name": "python",
   "nbconvert_exporter": "python",
   "pygments_lexer": "ipython3",
   "version": "3.11.5"
  }
 },
 "nbformat": 4,
 "nbformat_minor": 2
}
