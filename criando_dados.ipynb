{
 "cells": [
  {
   "cell_type": "markdown",
   "metadata": {},
   "source": [
    "# Criando os dados para a tabela de clientes"
   ]
  },
  {
   "cell_type": "code",
   "execution_count": null,
   "metadata": {},
   "outputs": [],
   "source": [
    "nomes_de_pessoas = [\n",
    "    'Lucas Oliveira',\n",
    "    'Isabela Santos',\n",
    "    'Rafael Lima',\n",
    "    'Mariana Costa',\n",
    "    'Gustavo Pereira',\n",
    "    'Ana Souza',\n",
    "    'Pedro Almeida',\n",
    "    'Juliana Silva',\n",
    "    'Gabriel Rocha',\n",
    "    'Carolina Mendes',\n",
    "    'Thiago Oliveira',\n",
    "    'Amanda Santos',\n",
    "    'Bruno Costa',\n",
    "    'Larissa Lima',\n",
    "    'Eduardo Pereira',\n",
    "    'Beatriz Oliveira',\n",
    "    'Daniel Silva',\n",
    "    'Giovanna Almeida',\n",
    "    'Matheus Rocha',\n",
    "    'Camila Lima',\n",
    "    'Lucas Rodrigues',\n",
    "    'Gabriela Souza',\n",
    "    'Henrique Almeida',\n",
    "    'Isabella Pereira',\n",
    "    'Vinícius Costa',\n",
    "    'Fernanda Oliveira',\n",
    "    'André Santos',\n",
    "    'Raquel Lima',\n",
    "    'Rodrigo Rocha',\n",
    "    'Júlia Almeida'\n",
    "]"
   ]
  },
  {
   "cell_type": "code",
   "execution_count": null,
   "metadata": {},
   "outputs": [],
   "source": [
    "endereco_cl = [\n",
    "    'Rua dos Barcos, 192',\n",
    "    'Viela dos Corais, 175',\n",
    "    'Beco das Marés, 196',\n",
    "    'Travessa dos Piratas, 657',\n",
    "    'Alameda das Âncoras, 22',\n",
    "    'Praça dos Náufragos, 818',\n",
    "    'Avenida dos Recifes, 779',\n",
    "    'Rua das Conchas, 538',\n",
    "    'Viela dos Tubarões, 737',\n",
    "    'Beco dos Golfinhos, 226',\n",
    "    'Travessa das Tartarugas, 601',\n",
    "    'Alameda das Baleias, 886',\n",
    "    'Praça dos Moluscos, 569',\n",
    "    'Avenida dos Oceanos, 44',\n",
    "    'Rua dos Navios, 916',\n",
    "    'Viela dos Peixes, 503',\n",
    "    'Beco das Ostras, 952',\n",
    "    'Travessa das Águas, 197',\n",
    "    'Alameda dos Leme, 109',\n",
    "    'Praça das Marés, 91',\n",
    "    'Avenida das Dunas, 687',\n",
    "    'Rua dos Surfistas, 969',\n",
    "    'Viela das Conquistas, 237',\n",
    "    'Beco dos Coqueiros, 485',\n",
    "    'Travessa dos Cocos, 655',\n",
    "    'Alameda dos Abacaxis, 385',\n",
    "    'Praça das Mangas, 256',\n",
    "    'Avenida dos Cajueiros, 596',\n",
    "    'Rua das Pitangas, 760',\n",
    "    'Viela dos Guaranis, 215'\n",
    "]"
   ]
  },
  {
   "cell_type": "markdown",
   "metadata": {},
   "source": [
    "# Gerando os emails falsos"
   ]
  },
  {
   "cell_type": "code",
   "execution_count": null,
   "metadata": {},
   "outputs": [],
   "source": [
    "# A função utiliza a biblioteca random para gerar strings aleatórias\n",
    "\n",
    "import random\n",
    "import string\n",
    "\n",
    "def gerar_email():\n",
    "    # nome: string aleatória de 5 a 10 caracteres\n",
    "    nome = ''.join(random.choice(string.ascii_lowercase) for _ in range(random.randint(5, 10)))\n",
    "    # dominio: string aleatória de 5 a 10 caracteres\n",
    "    dominio = ''.join(random.choice(string.ascii_lowercase) for _ in range(random.randint(5, 10)))\n",
    "    # extensao: escolhe uma extensão aleatória\n",
    "    extensao = random.choice(['com', 'net', 'org', 'gov'])\n",
    "\n",
    "    return f\"{nome}@{dominio}.{extensao}\"\n",
    "\n",
    "# Utiliza uma list comprehension para criar uma lista chamada emails_aleatorios na qual cada elemento é gerado chamando a função gerar_email\n",
    "emails_aleatorios = [gerar_email() for _ in range(30)]\n",
    "\n",
    "# Exemplo de uso:\n",
    "print(emails_aleatorios)"
   ]
  },
  {
   "cell_type": "markdown",
   "metadata": {},
   "source": [
    "# Gerando os números de telefones falsos"
   ]
  },
  {
   "cell_type": "code",
   "execution_count": null,
   "metadata": {},
   "outputs": [],
   "source": []
  }
 ],
 "metadata": {
  "kernelspec": {
   "display_name": "base",
   "language": "python",
   "name": "python3"
  },
  "language_info": {
   "codemirror_mode": {
    "name": "ipython",
    "version": 3
   },
   "file_extension": ".py",
   "mimetype": "text/x-python",
   "name": "python",
   "nbconvert_exporter": "python",
   "pygments_lexer": "ipython3",
   "version": "3.11.5"
  }
 },
 "nbformat": 4,
 "nbformat_minor": 2
}
